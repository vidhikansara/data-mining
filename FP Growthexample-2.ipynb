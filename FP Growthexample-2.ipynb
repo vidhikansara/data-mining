{
 "cells": [
  {
   "cell_type": "code",
   "execution_count": 1,
   "metadata": {},
   "outputs": [],
   "source": [
    "import numpy as np;\n",
    "import pandas as pd;\n",
    "import pyfpgrowth;"
   ]
  },
  {
   "cell_type": "code",
   "execution_count": 4,
   "metadata": {},
   "outputs": [],
   "source": [
    "dataset = [['Milk', 'Onion', 'Nutmeg', 'Kidney Beans', 'Eggs', 'Yogurt'],\n",
    "           ['Dill', 'Onion', 'Nutmeg', 'Kidney Beans', 'Eggs', 'Yogurt'],\n",
    "           ['Milk', 'Apple', 'Kidney Beans', 'Eggs'],\n",
    "           ['Milk', 'Unicorn', 'Corn', 'Kidney Beans', 'Yogurt'],\n",
    "           ['Corn', 'Onion', 'Onion', 'Kidney Beans', 'Ice cream', 'Eggs']];"
   ]
  },
  {
   "cell_type": "code",
   "execution_count": 13,
   "metadata": {},
   "outputs": [
    {
     "name": "stdout",
     "output_type": "stream",
     "text": [
      "No. of patterns found =  38\n"
     ]
    },
    {
     "data": {
      "text/plain": [
       "{('Corn', 'Kidney Beans'): 2,\n",
       " ('Corn', 'Kidney Beans', 'Onion'): 2,\n",
       " ('Corn', 'Onion'): 2,\n",
       " ('Eggs', 'Kidney Beans'): 4,\n",
       " ('Eggs', 'Kidney Beans', 'Milk'): 2,\n",
       " ('Eggs', 'Kidney Beans', 'Nutmeg'): 2,\n",
       " ('Eggs', 'Kidney Beans', 'Nutmeg', 'Onion'): 2,\n",
       " ('Eggs', 'Kidney Beans', 'Nutmeg', 'Onion', 'Yogurt'): 2,\n",
       " ('Eggs', 'Kidney Beans', 'Nutmeg', 'Yogurt'): 2,\n",
       " ('Eggs', 'Kidney Beans', 'Onion'): 4,\n",
       " ('Eggs', 'Kidney Beans', 'Onion', 'Yogurt'): 2,\n",
       " ('Eggs', 'Kidney Beans', 'Yogurt'): 2,\n",
       " ('Eggs', 'Milk'): 2,\n",
       " ('Eggs', 'Nutmeg'): 2,\n",
       " ('Eggs', 'Nutmeg', 'Onion'): 2,\n",
       " ('Eggs', 'Nutmeg', 'Onion', 'Yogurt'): 2,\n",
       " ('Eggs', 'Nutmeg', 'Yogurt'): 2,\n",
       " ('Eggs', 'Onion'): 4,\n",
       " ('Eggs', 'Onion', 'Yogurt'): 2,\n",
       " ('Eggs', 'Yogurt'): 2,\n",
       " ('Kidney Beans',): 5,\n",
       " ('Kidney Beans', 'Milk'): 3,\n",
       " ('Kidney Beans', 'Milk', 'Yogurt'): 2,\n",
       " ('Kidney Beans', 'Nutmeg'): 2,\n",
       " ('Kidney Beans', 'Nutmeg', 'Onion'): 2,\n",
       " ('Kidney Beans', 'Nutmeg', 'Onion', 'Yogurt'): 2,\n",
       " ('Kidney Beans', 'Nutmeg', 'Yogurt'): 2,\n",
       " ('Kidney Beans', 'Onion'): 4,\n",
       " ('Kidney Beans', 'Onion', 'Yogurt'): 2,\n",
       " ('Kidney Beans', 'Yogurt'): 3,\n",
       " ('Milk',): 3,\n",
       " ('Milk', 'Yogurt'): 2,\n",
       " ('Nutmeg',): 2,\n",
       " ('Nutmeg', 'Onion'): 2,\n",
       " ('Nutmeg', 'Onion', 'Yogurt'): 2,\n",
       " ('Nutmeg', 'Yogurt'): 2,\n",
       " ('Onion',): 4,\n",
       " ('Onion', 'Yogurt'): 2}"
      ]
     },
     "execution_count": 13,
     "metadata": {},
     "output_type": "execute_result"
    }
   ],
   "source": [
    "patterns = pyfpgrowth.find_frequent_patterns(dataset, 2);\n",
    "# patterns = pyfpgrowth.find_frequent_patterns(dataset, 4);\n",
    "print(\"No. of patterns found = \", len(patterns));\n",
    "patterns"
   ]
  },
  {
   "cell_type": "code",
   "execution_count": 15,
   "metadata": {},
   "outputs": [
    {
     "name": "stdout",
     "output_type": "stream",
     "text": [
      "No. of rules found = 31\n"
     ]
    },
    {
     "data": {
      "text/plain": [
       "{('Corn', 'Kidney Beans'): (('Onion',), 1.0),\n",
       " ('Corn', 'Onion'): (('Kidney Beans',), 1.0),\n",
       " ('Eggs', 'Kidney Beans'): (('Onion',), 1.0),\n",
       " ('Eggs', 'Kidney Beans', 'Nutmeg'): (('Onion', 'Yogurt'), 1.0),\n",
       " ('Eggs', 'Kidney Beans', 'Nutmeg', 'Onion'): (('Yogurt',), 1.0),\n",
       " ('Eggs', 'Kidney Beans', 'Nutmeg', 'Yogurt'): (('Onion',), 1.0),\n",
       " ('Eggs', 'Kidney Beans', 'Onion', 'Yogurt'): (('Nutmeg',), 1.0),\n",
       " ('Eggs', 'Kidney Beans', 'Yogurt'): (('Onion',), 1.0),\n",
       " ('Eggs', 'Milk'): (('Kidney Beans',), 1.0),\n",
       " ('Eggs', 'Nutmeg'): (('Kidney Beans', 'Onion', 'Yogurt'), 1.0),\n",
       " ('Eggs', 'Nutmeg', 'Onion'): (('Kidney Beans', 'Yogurt'), 1.0),\n",
       " ('Eggs', 'Nutmeg', 'Onion', 'Yogurt'): (('Kidney Beans',), 1.0),\n",
       " ('Eggs', 'Nutmeg', 'Yogurt'): (('Kidney Beans', 'Onion'), 1.0),\n",
       " ('Eggs', 'Onion'): (('Kidney Beans',), 1.0),\n",
       " ('Eggs', 'Onion', 'Yogurt'): (('Kidney Beans',), 1.0),\n",
       " ('Eggs', 'Yogurt'): (('Kidney Beans', 'Onion'), 1.0),\n",
       " ('Kidney Beans',): (('Eggs', 'Onion'), 0.8),\n",
       " ('Kidney Beans', 'Nutmeg'): (('Eggs', 'Onion', 'Yogurt'), 1.0),\n",
       " ('Kidney Beans', 'Nutmeg', 'Onion'): (('Eggs', 'Yogurt'), 1.0),\n",
       " ('Kidney Beans', 'Nutmeg', 'Onion', 'Yogurt'): (('Eggs',), 1.0),\n",
       " ('Kidney Beans', 'Nutmeg', 'Yogurt'): (('Eggs', 'Onion'), 1.0),\n",
       " ('Kidney Beans', 'Onion'): (('Eggs',), 1.0),\n",
       " ('Kidney Beans', 'Onion', 'Yogurt'): (('Eggs',), 1.0),\n",
       " ('Milk',): (('Kidney Beans',), 1.0),\n",
       " ('Milk', 'Yogurt'): (('Kidney Beans',), 1.0),\n",
       " ('Nutmeg',): (('Eggs', 'Kidney Beans', 'Onion', 'Yogurt'), 1.0),\n",
       " ('Nutmeg', 'Onion'): (('Eggs', 'Kidney Beans', 'Yogurt'), 1.0),\n",
       " ('Nutmeg', 'Onion', 'Yogurt'): (('Eggs', 'Kidney Beans'), 1.0),\n",
       " ('Nutmeg', 'Yogurt'): (('Eggs', 'Kidney Beans', 'Onion'), 1.0),\n",
       " ('Onion',): (('Eggs', 'Kidney Beans'), 1.0),\n",
       " ('Onion', 'Yogurt'): (('Eggs', 'Kidney Beans'), 1.0)}"
      ]
     },
     "execution_count": 15,
     "metadata": {},
     "output_type": "execute_result"
    }
   ],
   "source": [
    "rules = pyfpgrowth.generate_association_rules(patterns, 0.7)\n",
    "print(\"No. of rules found =\", len(rules));\n",
    "rules"
   ]
  }
 ],
 "metadata": {
  "kernelspec": {
   "display_name": "Python 3",
   "language": "python",
   "name": "python3"
  },
  "language_info": {
   "codemirror_mode": {
    "name": "ipython",
    "version": 3
   },
   "file_extension": ".py",
   "mimetype": "text/x-python",
   "name": "python",
   "nbconvert_exporter": "python",
   "pygments_lexer": "ipython3",
   "version": "3.6.4"
  }
 },
 "nbformat": 4,
 "nbformat_minor": 2
}
