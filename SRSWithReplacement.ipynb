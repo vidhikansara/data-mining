{
 "cells": [
  {
   "cell_type": "code",
   "execution_count": 10,
   "metadata": {},
   "outputs": [],
   "source": [
    "import random\n",
    "import numpy as np\n",
    "from random import sample\n",
    "from itertools import groupby"
   ]
  },
  {
   "cell_type": "code",
   "execution_count": 11,
   "metadata": {},
   "outputs": [
    {
     "name": "stdout",
     "output_type": "stream",
     "text": [
      "Simple random sampling with replacement and with replacement\n"
     ]
    }
   ],
   "source": [
    "print(\"Simple random sampling with replacement and with replacement\")"
   ]
  },
  {
   "cell_type": "code",
   "execution_count": 12,
   "metadata": {},
   "outputs": [],
   "source": [
    "list = [23,56,44,12,90,67,55,92,1,7,8,22,98,45,16,17,15,4,9]"
   ]
  },
  {
   "cell_type": "code",
   "execution_count": 16,
   "metadata": {},
   "outputs": [
    {
     "name": "stdout",
     "output_type": "stream",
     "text": [
      "choose any 5 samples from population for with replacement  [55, 4, 7, 4, 17]\n"
     ]
    }
   ],
   "source": [
    "print(\"choose any 5 samples from population for with replacement \",random.choices(list,k=5))"
   ]
  },
  {
   "cell_type": "code",
   "execution_count": 15,
   "metadata": {},
   "outputs": [
    {
     "name": "stdout",
     "output_type": "stream",
     "text": [
      "Choose any 5 samples from population for without replacement  [45, 92, 9, 8, 1]\n"
     ]
    }
   ],
   "source": [
    "print(\"Choose any 5 samples from population for without replacement \",random.sample(list,5))"
   ]
  },
  {
   "cell_type": "code",
   "execution_count": null,
   "metadata": {},
   "outputs": [],
   "source": [
    "Employee = [[1,'A','abc',5600],\n",
    "            [2,'B','rty',4500],\n",
    "            [3,'C','dfg',3300],\n",
    "            [4,'B','qwe',2100],\n",
    "            [5,'C','mnb',2300],\n",
    "            [6,'A','jhg',9800],\n",
    "            [7,'A','lkj',6500],\n",
    "            [8,'C','bvc',4700],\n",
    "            [9,'B','zxc',3400],\n",
    "            [10,'A','yui',7700]]\n"
   ]
  },
  {
   "cell_type": "code",
   "execution_count": null,
   "metadata": {},
   "outputs": [],
   "source": [
    "newval = sorted(Employee,key=lambda y:y[2])\n",
    "res = groupby()"
   ]
  }
 ],
 "metadata": {
  "kernelspec": {
   "display_name": "Python 3",
   "language": "python",
   "name": "python3"
  },
  "language_info": {
   "codemirror_mode": {
    "name": "ipython",
    "version": 3
   },
   "file_extension": ".py",
   "mimetype": "text/x-python",
   "name": "python",
   "nbconvert_exporter": "python",
   "pygments_lexer": "ipython3",
   "version": "3.7.1"
  }
 },
 "nbformat": 4,
 "nbformat_minor": 2
}
