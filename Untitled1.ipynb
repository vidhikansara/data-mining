{
 "cells": [
  {
   "cell_type": "code",
   "execution_count": 1,
   "metadata": {},
   "outputs": [],
   "source": [
    "import numpy as np;\n",
    "import pandas as pd;\n",
    "import pyfpgrowth;"
   ]
  },
  {
   "cell_type": "code",
   "execution_count": 2,
   "metadata": {},
   "outputs": [],
   "source": [
    "dataset = [{'E','K','M','N','O','Y'},\n",
    "          {'D','E','K','N','O','Y'},\n",
    "          {'A','E','K','M'},\n",
    "          {'C','K','M','U','Y'},\n",
    "          {'C','E','I','K','O','O'}];"
   ]
  },
  {
   "cell_type": "code",
   "execution_count": 3,
   "metadata": {},
   "outputs": [
    {
     "name": "stdout",
     "output_type": "stream",
     "text": [
      "patterns found =  11\n"
     ]
    },
    {
     "data": {
      "text/plain": [
       "{('O',): 3,\n",
       " ('E', 'O'): 3,\n",
       " ('K', 'O'): 3,\n",
       " ('E', 'K', 'O'): 3,\n",
       " ('M',): 3,\n",
       " ('K', 'M'): 3,\n",
       " ('Y',): 3,\n",
       " ('K', 'Y'): 3,\n",
       " ('E',): 4,\n",
       " ('E', 'K'): 4,\n",
       " ('K',): 5}"
      ]
     },
     "execution_count": 3,
     "metadata": {},
     "output_type": "execute_result"
    }
   ],
   "source": [
    "patterns = pyfpgrowth.find_frequent_patterns(dataset, 3);\n",
    "print(\"patterns found = \", len(patterns));\n",
    "patterns"
   ]
  },
  {
   "cell_type": "code",
   "execution_count": 4,
   "metadata": {},
   "outputs": [
    {
     "name": "stdout",
     "output_type": "stream",
     "text": [
      "No. of rules found = 8\n"
     ]
    },
    {
     "data": {
      "text/plain": [
       "{('E',): (('K',), 1.0),\n",
       " ('O',): (('E', 'K'), 1.0),\n",
       " ('E', 'K'): (('O',), 0.75),\n",
       " ('E', 'O'): (('K',), 1.0),\n",
       " ('K', 'O'): (('E',), 1.0),\n",
       " ('M',): (('K',), 1.0),\n",
       " ('Y',): (('K',), 1.0),\n",
       " ('K',): (('E',), 0.8)}"
      ]
     },
     "execution_count": 4,
     "metadata": {},
     "output_type": "execute_result"
    }
   ],
   "source": [
    "rules = pyfpgrowth.generate_association_rules(patterns, 0.7)\n",
    "print(\"No. of rules found =\", len(rules));\n",
    "rules"
   ]
  },
  {
   "cell_type": "code",
   "execution_count": null,
   "metadata": {},
   "outputs": [],
   "source": []
  }
 ],
 "metadata": {
  "kernelspec": {
   "display_name": "Python 3",
   "language": "python",
   "name": "python3"
  },
  "language_info": {
   "codemirror_mode": {
    "name": "ipython",
    "version": 3
   },
   "file_extension": ".py",
   "mimetype": "text/x-python",
   "name": "python",
   "nbconvert_exporter": "python",
   "pygments_lexer": "ipython3",
   "version": "3.7.1"
  }
 },
 "nbformat": 4,
 "nbformat_minor": 2
}
