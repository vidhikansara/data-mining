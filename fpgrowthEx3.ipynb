{
 "cells": [
  {
   "cell_type": "code",
   "execution_count": 1,
   "metadata": {},
   "outputs": [],
   "source": [
    "import numpy as np;\n",
    "import pandas as pd;\n",
    "import pyfpgrowth;"
   ]
  },
  {
   "cell_type": "code",
   "execution_count": 2,
   "metadata": {},
   "outputs": [],
   "source": [
    "dataset = [{'f','a','c','d','g','i','m','p'},\n",
    "          {'a','b','c','f','l','m','o'},\n",
    "          {'b','f','h','j','o','w'},\n",
    "          {'b','c','k','s','p'},\n",
    "          {'a','f','c','e','l','p','m','n'}];"
   ]
  },
  {
   "cell_type": "code",
   "execution_count": 8,
   "metadata": {},
   "outputs": [
    {
     "name": "stdout",
     "output_type": "stream",
     "text": [
      "No. of patterns found =  18\n"
     ]
    },
    {
     "data": {
      "text/plain": [
       "{('m',): 3,\n",
       " ('c', 'm'): 3,\n",
       " ('f', 'm'): 3,\n",
       " ('c', 'f', 'm'): 3,\n",
       " ('a',): 3,\n",
       " ('a', 'm'): 3,\n",
       " ('a', 'c'): 3,\n",
       " ('a', 'f'): 3,\n",
       " ('a', 'c', 'm'): 3,\n",
       " ('a', 'f', 'm'): 3,\n",
       " ('a', 'c', 'f'): 3,\n",
       " ('a', 'c', 'f', 'm'): 3,\n",
       " ('p',): 3,\n",
       " ('c', 'p'): 3,\n",
       " ('b',): 3,\n",
       " ('f',): 4,\n",
       " ('c',): 4,\n",
       " ('c', 'f'): 3}"
      ]
     },
     "execution_count": 8,
     "metadata": {},
     "output_type": "execute_result"
    }
   ],
   "source": [
    "patterns = pyfpgrowth.find_frequent_patterns(dataset, 3);\n",
    "print(\"No. of patterns found = \", len(patterns));\n",
    "patterns"
   ]
  },
  {
   "cell_type": "code",
   "execution_count": 9,
   "metadata": {},
   "outputs": [
    {
     "name": "stdout",
     "output_type": "stream",
     "text": [
      "No. of rules found = 15\n"
     ]
    },
    {
     "data": {
      "text/plain": [
       "{('c',): (('f',), 0.75),\n",
       " ('m',): (('a', 'c', 'f'), 1.0),\n",
       " ('f',): (('c',), 0.75),\n",
       " ('c', 'f'): (('a', 'm'), 1.0),\n",
       " ('c', 'm'): (('a', 'f'), 1.0),\n",
       " ('f', 'm'): (('a', 'c'), 1.0),\n",
       " ('a',): (('c', 'f', 'm'), 1.0),\n",
       " ('a', 'c'): (('f', 'm'), 1.0),\n",
       " ('a', 'm'): (('c', 'f'), 1.0),\n",
       " ('a', 'f'): (('c', 'm'), 1.0),\n",
       " ('a', 'c', 'f'): (('m',), 1.0),\n",
       " ('a', 'c', 'm'): (('f',), 1.0),\n",
       " ('a', 'f', 'm'): (('c',), 1.0),\n",
       " ('c', 'f', 'm'): (('a',), 1.0),\n",
       " ('p',): (('c',), 1.0)}"
      ]
     },
     "execution_count": 9,
     "metadata": {},
     "output_type": "execute_result"
    }
   ],
   "source": [
    "rules = pyfpgrowth.generate_association_rules(patterns, 0.7)\n",
    "print(\"No. of rules found =\", len(rules));\n",
    "rules"
   ]
  },
  {
   "cell_type": "code",
   "execution_count": null,
   "metadata": {},
   "outputs": [],
   "source": []
  }
 ],
 "metadata": {
  "kernelspec": {
   "display_name": "Python 3",
   "language": "python",
   "name": "python3"
  },
  "language_info": {
   "codemirror_mode": {
    "name": "ipython",
    "version": 3
   },
   "file_extension": ".py",
   "mimetype": "text/x-python",
   "name": "python",
   "nbconvert_exporter": "python",
   "pygments_lexer": "ipython3",
   "version": "3.7.1"
  }
 },
 "nbformat": 4,
 "nbformat_minor": 2
}
